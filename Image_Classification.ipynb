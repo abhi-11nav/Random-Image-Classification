{
  "nbformat": 4,
  "nbformat_minor": 0,
  "metadata": {
    "colab": {
      "name": "Image Classification.ipynb",
      "provenance": [],
      "collapsed_sections": [],
      "mount_file_id": "1bJdpJGzIl9aZXhSVTVmvDjUaG3SQr6Uw",
      "authorship_tag": "ABX9TyNEK46bwf7Pqvw5SU79/itI",
      "include_colab_link": true
    },
    "kernelspec": {
      "name": "python3",
      "display_name": "Python 3"
    },
    "language_info": {
      "name": "python"
    }
  },
  "cells": [
    {
      "cell_type": "markdown",
      "metadata": {
        "id": "view-in-github",
        "colab_type": "text"
      },
      "source": [
        "<a href=\"https://colab.research.google.com/github/abhi-11nav/Random-Image-Classification/blob/main/Image_Classification.ipynb\" target=\"_parent\"><img src=\"https://colab.research.google.com/assets/colab-badge.svg\" alt=\"Open In Colab\"/></a>"
      ]
    },
    {
      "cell_type": "code",
      "execution_count": 32,
      "metadata": {
        "id": "vfdEx80kHhca"
      },
      "outputs": [],
      "source": [
        "# Importing the libraries \n",
        "\n",
        "import os\n",
        "import shutil \n",
        "\n",
        "from glob import glob \n",
        "\n",
        "import tensorflow \n",
        "from tensorflow import keras \n",
        "\n",
        "from tensorflow.keras.layers import Dense, Flatten, Conv2D, MaxPool2D\n",
        "from tensorflow.keras.models import Model, Sequential\n",
        "\n",
        "from tensorflow.keras.preprocessing import image \n",
        "from tensorflow.keras.preprocessing.image import ImageDataGenerator, load_img \n",
        "\n",
        "from tensorflow.keras.applications.resnet50 import ResNet50"
      ]
    },
    {
      "cell_type": "code",
      "source": [
        "# Dividing the data into train and validation data\n",
        "\n",
        "all_data_path = \"/content/drive/MyDrive/Classification_images/data/natural_images\""
      ],
      "metadata": {
        "id": "K4P-wqkyOUip"
      },
      "execution_count": 33,
      "outputs": []
    },
    {
      "cell_type": "code",
      "source": [
        "from sklearn.model_selection import train_test_split"
      ],
      "metadata": {
        "id": "WexjaxIRMuoV"
      },
      "execution_count": 34,
      "outputs": []
    },
    {
      "cell_type": "code",
      "source": [
        "# Code for splitting the images into train and val sets \n",
        "\n",
        "for name in os.listdir(all_data_path):\n",
        "  folder_name = name\n",
        "  for path in glob(all_data_path+\"/*\"):\n",
        "    full_image_data = os.listdir(path)\n",
        "    train_data, valid_data = train_test_split(full_image_data, test_size=0.25,train_size=0.75, random_state=143)\n",
        "    os.mkdir(\"/content/drive/MyDrive/Classification_images/train\"+\"/\"+folder_name+\"_train/\")\n",
        "    destination_train_path = \"/content/drive/MyDrive/Classification_images/train\"+\"/\"+folder_name+\"_train/\" \n",
        "    os.mkdir(\"/content/drive/MyDrive/Classification_images/test\"+\"/\"+folder_name+\"_test/\")\n",
        "    destination_valid_path = \"/content/drive/MyDrive/Classification_images/test\"+\"/\"+folder_name+\"_test/\"\n",
        "    for train_img in train_data:\n",
        "      source = path+\"/\"+train_img\n",
        "      shutil.move(source, destination_train_path)\n",
        "    for val_img in valid_data:\n",
        "      source = path+\"/\"+val_img\n",
        "      shutil.move(source, destination_valid_path)\n",
        "  remv_path = \"/content/drive/MyDrive/Classification_images/data/natural_images/\"+folder_name\n",
        "  os.remove(remv_path)"
      ],
      "metadata": {
        "id": "WfO0W1WfuE5B"
      },
      "execution_count": null,
      "outputs": []
    },
    {
      "cell_type": "code",
      "source": [
        "# Specifying the paths of train and validation data \n",
        "\n",
        "train_path = \"/content/drive/MyDrive/Classification_images/train\"\n",
        "\n",
        "validation_path = \"/content/drive/MyDrive/Classification_images/test\""
      ],
      "metadata": {
        "id": "vgYAvbr1IKAS"
      },
      "execution_count": 40,
      "outputs": []
    },
    {
      "cell_type": "code",
      "source": [
        "# Checking for nteh number of images to be classified \n",
        "\n",
        "no_of_images = len(glob(train_path+\"/*\"))"
      ],
      "metadata": {
        "id": "xtctX5RdIsNu"
      },
      "execution_count": 41,
      "outputs": []
    },
    {
      "cell_type": "code",
      "source": [
        "no_of_images"
      ],
      "metadata": {
        "colab": {
          "base_uri": "https://localhost:8080/"
        },
        "id": "BtjJfDpLJGDP",
        "outputId": "1b57307e-fbe2-4d0a-9cca-dacd51a6c856"
      },
      "execution_count": 42,
      "outputs": [
        {
          "output_type": "execute_result",
          "data": {
            "text/plain": [
              "7"
            ]
          },
          "metadata": {},
          "execution_count": 42
        }
      ]
    },
    {
      "cell_type": "code",
      "source": [
        "train_datagen = ImageDataGenerator(rescale=1./255, shear_range=0.2,zoom_range=0.34,horizontal_flip=True,vertical_flip=True)\n",
        "\n",
        "test_datagen = ImageDataGenerator(rescale = 1./255)"
      ],
      "metadata": {
        "id": "UoDt1YEUKIhO"
      },
      "execution_count": 43,
      "outputs": []
    },
    {
      "cell_type": "code",
      "source": [
        "train_set = train_datagen.flow_from_directory(train_path, target_size=(224,224),class_mode=\"categorical\")"
      ],
      "metadata": {
        "colab": {
          "base_uri": "https://localhost:8080/"
        },
        "id": "xAL2wj8vM8Em",
        "outputId": "489b092a-b10d-4cf0-94dc-fa3e0fa719a7"
      },
      "execution_count": 44,
      "outputs": [
        {
          "output_type": "stream",
          "name": "stdout",
          "text": [
            "Found 4451 images belonging to 7 classes.\n"
          ]
        }
      ]
    },
    {
      "cell_type": "code",
      "source": [
        "test_set = test_datagen.flow_from_directory(validation_path, target_size=(224,224),class_mode=\"categorical\" )"
      ],
      "metadata": {
        "colab": {
          "base_uri": "https://localhost:8080/"
        },
        "id": "5KCIhIRSNKNv",
        "outputId": "8117e3cd-a49b-4a4b-f5c8-b9c7ba39d46d"
      },
      "execution_count": 45,
      "outputs": [
        {
          "output_type": "stream",
          "name": "stdout",
          "text": [
            "Found 1490 images belonging to 7 classes.\n"
          ]
        }
      ]
    },
    {
      "cell_type": "code",
      "source": [
        ""
      ],
      "metadata": {
        "id": "tzHzfuDlNVS_"
      },
      "execution_count": null,
      "outputs": []
    }
  ]
}