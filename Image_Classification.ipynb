{
  "nbformat": 4,
  "nbformat_minor": 0,
  "metadata": {
    "colab": {
      "name": "Image Classification.ipynb",
      "provenance": [],
      "collapsed_sections": [],
      "mount_file_id": "1bJdpJGzIl9aZXhSVTVmvDjUaG3SQr6Uw",
      "authorship_tag": "ABX9TyM3gXaxdTauKc4azenPLT+b",
      "include_colab_link": true
    },
    "kernelspec": {
      "name": "python3",
      "display_name": "Python 3"
    },
    "language_info": {
      "name": "python"
    }
  },
  "cells": [
    {
      "cell_type": "markdown",
      "metadata": {
        "id": "view-in-github",
        "colab_type": "text"
      },
      "source": [
        "<a href=\"https://colab.research.google.com/github/abhi-11nav/Random-Image-Classification/blob/main/Image_Classification.ipynb\" target=\"_parent\"><img src=\"https://colab.research.google.com/assets/colab-badge.svg\" alt=\"Open In Colab\"/></a>"
      ]
    },
    {
      "cell_type": "code",
      "execution_count": 41,
      "metadata": {
        "id": "vfdEx80kHhca"
      },
      "outputs": [],
      "source": [
        "# Importing the libraries \n",
        "\n",
        "import os\n",
        "import shutil \n",
        "\n",
        "from glob import glob \n",
        "\n",
        "import tensorflow \n",
        "from tensorflow import keras \n",
        "\n",
        "from tensorflow.keras.layers import Dense, Flatten, Conv2D, MaxPool2D\n",
        "from tensorflow.keras.models import Model, Sequential\n",
        "\n",
        "from tensorflow.keras.preprocessing import image \n",
        "from tensorflow.keras.preprocessing.image import ImageDataGenerator, load_img \n",
        "\n",
        "from tensorflow.keras.applications.resnet50 import ResNet50"
      ]
    },
    {
      "cell_type": "code",
      "source": [
        "# Dividing the data into train and validation data\n",
        "\n",
        "all_data_path = \"/content/drive/MyDrive/Classification_images/data/natural_images\""
      ],
      "metadata": {
        "id": "K4P-wqkyOUip"
      },
      "execution_count": 39,
      "outputs": []
    },
    {
      "cell_type": "code",
      "source": [
        "for x in glob(all_data_path+\"/*\"):\n",
        "  img_path = x+\"/*\""
      ],
      "metadata": {
        "colab": {
          "base_uri": "https://localhost:8080/"
        },
        "id": "_m0GPotlOd2Q",
        "outputId": "56112bd5-751e-4edd-ecd7-d3d76ee243ed"
      },
      "execution_count": 40,
      "outputs": [
        {
          "output_type": "execute_result",
          "data": {
            "text/plain": [
              "['/content/drive/MyDrive/Classification_images/data/natural_images/fruit',\n",
              " '/content/drive/MyDrive/Classification_images/data/natural_images/dog',\n",
              " '/content/drive/MyDrive/Classification_images/data/natural_images/flower',\n",
              " '/content/drive/MyDrive/Classification_images/data/natural_images/cat',\n",
              " '/content/drive/MyDrive/Classification_images/data/natural_images/motorbike',\n",
              " '/content/drive/MyDrive/Classification_images/data/natural_images/car',\n",
              " '/content/drive/MyDrive/Classification_images/data/natural_images/airplane',\n",
              " '/content/drive/MyDrive/Classification_images/data/natural_images/person']"
            ]
          },
          "metadata": {},
          "execution_count": 40
        }
      ]
    },
    {
      "cell_type": "code",
      "source": [
        ""
      ],
      "metadata": {
        "id": "q8lKMVsJOd42"
      },
      "execution_count": null,
      "outputs": []
    },
    {
      "cell_type": "code",
      "source": [
        ""
      ],
      "metadata": {
        "id": "pC975jAHOd7H"
      },
      "execution_count": null,
      "outputs": []
    },
    {
      "cell_type": "code",
      "source": [
        "# Specifying the paths of train and validation data \n",
        "\n",
        "train_path = \"/content/drive/MyDrive/Classification_images/natural_images\"\n",
        "\n",
        "validation_path = \"/content/drive/MyDrive/Classification_images/data/natural_images\""
      ],
      "metadata": {
        "id": "vgYAvbr1IKAS"
      },
      "execution_count": 30,
      "outputs": []
    },
    {
      "cell_type": "code",
      "source": [
        "# Checking for nteh number of images to be classified \n",
        "\n",
        "no_of_images = len(glob(train_path+\"/*\"))"
      ],
      "metadata": {
        "id": "xtctX5RdIsNu"
      },
      "execution_count": 31,
      "outputs": []
    },
    {
      "cell_type": "code",
      "source": [
        "no_of_images"
      ],
      "metadata": {
        "colab": {
          "base_uri": "https://localhost:8080/"
        },
        "id": "BtjJfDpLJGDP",
        "outputId": "f242e362-3cd1-4d0b-c671-af57fc85504c"
      },
      "execution_count": 32,
      "outputs": [
        {
          "output_type": "execute_result",
          "data": {
            "text/plain": [
              "7"
            ]
          },
          "metadata": {},
          "execution_count": 32
        }
      ]
    },
    {
      "cell_type": "code",
      "source": [
        "train_datagen = ImageDataGenerator(rescale=1./255, shear_range=0.2,zoom_range=0.34,horizontal_flip=True,vertical_flip=True)\n",
        "\n",
        "test_datagen = ImageDataGenerator(rescale = 1./255)"
      ],
      "metadata": {
        "id": "UoDt1YEUKIhO"
      },
      "execution_count": 33,
      "outputs": []
    },
    {
      "cell_type": "code",
      "source": [
        "train_set = train_datagen.flow_from_directory(train_path, target_size=(224,224),class_mode=\"categorical\")"
      ],
      "metadata": {
        "colab": {
          "base_uri": "https://localhost:8080/"
        },
        "id": "xAL2wj8vM8Em",
        "outputId": "420946a6-04ea-4621-ebed-8eeb6a38dd09"
      },
      "execution_count": 34,
      "outputs": [
        {
          "output_type": "stream",
          "name": "stdout",
          "text": [
            "Found 6951 images belonging to 8 classes.\n"
          ]
        }
      ]
    },
    {
      "cell_type": "code",
      "source": [
        "test_set = test_datagen.flow_from_directory(validation_path, target_size=(224,224),class_mode=\"categorical\" )"
      ],
      "metadata": {
        "colab": {
          "base_uri": "https://localhost:8080/"
        },
        "id": "5KCIhIRSNKNv",
        "outputId": "3353e465-f1ce-40af-9707-ac93671c5610"
      },
      "execution_count": 36,
      "outputs": [
        {
          "output_type": "stream",
          "name": "stdout",
          "text": [
            "Found 6959 images belonging to 8 classes.\n"
          ]
        }
      ]
    },
    {
      "cell_type": "code",
      "source": [
        ""
      ],
      "metadata": {
        "id": "tzHzfuDlNVS_"
      },
      "execution_count": null,
      "outputs": []
    }
  ]
}